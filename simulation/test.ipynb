{
 "cells": [
  {
   "cell_type": "code",
   "execution_count": 45,
   "metadata": {},
   "outputs": [],
   "source": [
    "import sys\n",
    "sys.path.insert(0, '..')\n",
    "from simulation.road_factory import create_road\n",
    "from simulation import Car\n",
    "from numpy import nan"
   ]
  },
  {
   "cell_type": "code",
   "execution_count": null,
   "metadata": {},
   "outputs": [],
   "source": []
  },
  {
   "cell_type": "code",
   "execution_count": 8,
   "metadata": {},
   "outputs": [],
   "source": [
    "road = create_road()"
   ]
  },
  {
   "cell_type": "code",
   "execution_count": 9,
   "metadata": {},
   "outputs": [
    {
     "data": {
      "text/plain": [
       "('upstream_onramp0_runway_start', 'upstream_onramp0_converge_start', 0) (U) start=[0, 8] end=[5, 8], path=('upstream_onramp0_runway_start', 'upstream_onramp0_merge_end', 0)"
      ]
     },
     "execution_count": 9,
     "metadata": {},
     "output_type": "execute_result"
    }
   ],
   "source": [
    "lane = road.network.get_lane(('upstream_onramp0_runway_start', 'upstream_onramp0_converge_start', 0))\n",
    "lane"
   ]
  },
  {
   "cell_type": "code",
   "execution_count": 13,
   "metadata": {},
   "outputs": [
    {
     "data": {
      "text/plain": [
       "5.0"
      ]
     },
     "execution_count": 13,
     "metadata": {},
     "output_type": "execute_result"
    },
    {
     "data": {
      "text/plain": [
       "105.0"
      ]
     },
     "execution_count": 13,
     "metadata": {},
     "output_type": "execute_result"
    }
   ],
   "source": [
    "lane.length\n",
    "lane.path_length"
   ]
  },
  {
   "cell_type": "code",
   "execution_count": 15,
   "metadata": {},
   "outputs": [
    {
     "data": {
      "text/plain": [
       "4"
      ]
     },
     "execution_count": 15,
     "metadata": {},
     "output_type": "execute_result"
    }
   ],
   "source": [
    "4 % 6"
   ]
  },
  {
   "cell_type": "code",
   "execution_count": 16,
   "metadata": {},
   "outputs": [
    {
     "data": {
      "text/plain": [
       "1"
      ]
     },
     "execution_count": 16,
     "metadata": {},
     "output_type": "execute_result"
    }
   ],
   "source": [
    "7%6"
   ]
  },
  {
   "cell_type": "code",
   "execution_count": 12,
   "metadata": {},
   "outputs": [
    {
     "data": {
      "text/plain": [
       "array([5., 8.])"
      ]
     },
     "execution_count": 12,
     "metadata": {},
     "output_type": "execute_result"
    },
    {
     "data": {
      "text/plain": [
       "array([105.,  14.])"
      ]
     },
     "execution_count": 12,
     "metadata": {},
     "output_type": "execute_result"
    }
   ],
   "source": [
    "lane.end_pos\n",
    "lane.path_end_pos"
   ]
  },
  {
   "cell_type": "code",
   "execution_count": 6,
   "metadata": {},
   "outputs": [
    {
     "data": {
      "text/plain": [
       "[('upstream_onramp0_converge_start', 'upstream_onramp0_merge_start', 0)]"
      ]
     },
     "execution_count": 6,
     "metadata": {},
     "output_type": "execute_result"
    }
   ],
   "source": [
    "lane.next_lane_index_options"
   ]
  },
  {
   "cell_type": "code",
   "execution_count": 8,
   "metadata": {},
   "outputs": [
    {
     "data": {
      "text/plain": [
       "('upstream_onramp0_converge_start', 'upstream_onramp0_merge_start', 0) (U) start=[5, 10] end=[25, 10], path=('upstream_onramp0_runway_start', 'upstream_onramp0_merge_end', 0)"
      ]
     },
     "execution_count": 8,
     "metadata": {},
     "output_type": "execute_result"
    }
   ],
   "source": [
    "if len(lane.next_lane_index_options) == 1:\n",
    "    next_lane_index = lane.next_lane_index_options[0]\n",
    "else:\n",
    "    next_lane_index = np.random.choice(lane.next_lane_index_options)\n",
    "\n",
    "next_lane = road.network.get_lane(next_lane_index)\n",
    "next_lane"
   ]
  },
  {
   "cell_type": "code",
   "execution_count": 5,
   "metadata": {},
   "outputs": [
    {
     "data": {
      "text/plain": [
       "('upstream_onramp0_runway_start', 'upstream_onramp0_converge_start', 0) (U) start=[0, 8] end=[5, 8], path=('upstream_onramp0_runway_start', 'upstream_onramp0_merge_end', 0)"
      ]
     },
     "execution_count": 5,
     "metadata": {},
     "output_type": "execute_result"
    }
   ],
   "source": [
    "road.network.get_next_lane(lane)"
   ]
  },
  {
   "cell_type": "code",
   "execution_count": 11,
   "metadata": {},
   "outputs": [
    {
     "data": {
      "text/plain": [
       "('upstream_offramp0_merge_start', 'upstream_offramp0_merge_end', 1) (U) start=[150, 16] end=[215, 16], path=('west', 'east', 1)"
      ]
     },
     "execution_count": 11,
     "metadata": {},
     "output_type": "execute_result"
    }
   ],
   "source": [
    "lane = road.network.get_lane(('upstream_offramp0_merge_start', 'upstream_offramp0_merge_end', 1))\n",
    "lane"
   ]
  },
  {
   "cell_type": "code",
   "execution_count": 12,
   "metadata": {},
   "outputs": [
    {
     "data": {
      "text/plain": [
       "[('upstream_offramp0_merge_end', 'upstream_onramp1_merge_start', 1),\n",
       " ('upstream_offramp0_merge_start', 'upstream_offramp0_merge_end', 0)]"
      ]
     },
     "execution_count": 12,
     "metadata": {},
     "output_type": "execute_result"
    }
   ],
   "source": [
    "lane.next_lane_index_options"
   ]
  },
  {
   "cell_type": "code",
   "execution_count": 16,
   "metadata": {},
   "outputs": [
    {
     "data": {
      "text/plain": [
       "('upstream_offramp0_merge_start', 'upstream_offramp0_merge_end', 0)"
      ]
     },
     "execution_count": 16,
     "metadata": {},
     "output_type": "execute_result"
    }
   ],
   "source": [
    "import random\n",
    "random.choice(lane.next_lane_index_options)"
   ]
  },
  {
   "cell_type": "code",
   "execution_count": 3,
   "metadata": {},
   "outputs": [
    {
     "data": {
      "text/plain": [
       "('upstream_onramp1_merge_start', 'upstream_onramp1_merge_end', 0) (U) start=[285, 12] end=[345, 12]"
      ]
     },
     "execution_count": 3,
     "metadata": {},
     "output_type": "execute_result"
    },
    {
     "data": {
      "text/plain": [
       "('west', 'upstream_onramp0_merge_start', 1) (U) start=[0, 16] end=[25, 16]"
      ]
     },
     "execution_count": 3,
     "metadata": {},
     "output_type": "execute_result"
    },
    {
     "data": {
      "text/plain": [
       "('west', 'east', 2) (U) start=[0, 20] end=[500, 20]"
      ]
     },
     "execution_count": 3,
     "metadata": {},
     "output_type": "execute_result"
    },
    {
     "data": {
      "text/plain": [
       "('west', 'east', 3) (U) start=[0, 24] end=[500, 24]"
      ]
     },
     "execution_count": 3,
     "metadata": {},
     "output_type": "execute_result"
    },
    {
     "data": {
      "text/plain": [
       "('west', 'east', 4) (U) start=[0, 28] end=[500, 28]"
      ]
     },
     "execution_count": 3,
     "metadata": {},
     "output_type": "execute_result"
    }
   ],
   "source": [
    "lane0 = road.network.get_lane(('upstream_onramp0_merge_start', 'upstream_onramp0_merge_end', 0))\n",
    "lane1 = road.network.get_lane(('west', 'upstream_onramp0_merge_start', 1))\n",
    "lane2 = road.network.get_lane(('west', 'east', 2))\n",
    "lane3 = road.network.get_lane(('west', 'east', 3))\n",
    "lane4 = road.network.get_lane(('west', 'east', 4))\n",
    "\n",
    "lane0\n",
    "lane1\n",
    "lane2\n",
    "lane3\n",
    "lane4"
   ]
  },
  {
   "cell_type": "code",
   "execution_count": 4,
   "metadata": {},
   "outputs": [
    {
     "data": {
      "text/plain": [
       "Car #288: at [285.0, 12.0], s: 0, v: 25.7, v0: 26.9, a: 0.0, ('upstream_onramp1_merge_start', 'upstream_onramp1_merge_end', 0)"
      ]
     },
     "execution_count": 4,
     "metadata": {},
     "output_type": "execute_result"
    },
    {
     "data": {
      "text/plain": [
       "Car #376: at [0.0, 16.0], s: 0, v: 27.6, v0: 26.1, a: 0.0, ('west', 'upstream_onramp0_merge_start', 1)"
      ]
     },
     "execution_count": 4,
     "metadata": {},
     "output_type": "execute_result"
    },
    {
     "data": {
      "text/plain": [
       "Car #336: at [0.0, 20.0], s: 0, v: 27.6, v0: 25.8, a: 0.0, ('west', 'east', 2)"
      ]
     },
     "execution_count": 4,
     "metadata": {},
     "output_type": "execute_result"
    },
    {
     "data": {
      "text/plain": [
       "Car #192: at [0.0, 24.0], s: 0, v: 24.0, v0: 27.6, a: 0.0, ('west', 'east', 3)"
      ]
     },
     "execution_count": 4,
     "metadata": {},
     "output_type": "execute_result"
    },
    {
     "data": {
      "text/plain": [
       "Car #384: at [0.0, 28.0], s: 0, v: 23.5, v0: 27.5, a: 0.0, ('west', 'east', 4)"
      ]
     },
     "execution_count": 4,
     "metadata": {},
     "output_type": "execute_result"
    }
   ],
   "source": [
    "car0 = Car.make_on_lane(road, lane0, longitudinal=0)\n",
    "car1 = Car.make_on_lane(road, lane1, longitudinal=0)\n",
    "car2 = Car.make_on_lane(road, lane2, longitudinal=0)\n",
    "car3 = Car.make_on_lane(road, lane3, longitudinal=0)\n",
    "car4 = Car.make_on_lane(road, lane4, longitudinal=0)\n",
    "\n",
    "car0\n",
    "car1\n",
    "car2\n",
    "car3\n",
    "car4"
   ]
  },
  {
   "cell_type": "code",
   "execution_count": 18,
   "metadata": {},
   "outputs": [],
   "source": [
    "from gym import spaces\n",
    "\n",
    "observation_space = spaces.Dict({\n",
    "    'upstream_demand':           spaces.Box(low=0, high=20000, dtype=int, shape=()),\n",
    "    'upstream_n_cars_highway':   spaces.Box(low=0, high=20000, dtype=int, shape=()),\n",
    "    'upstream_n_cars_onramp0':   spaces.Box(low=0, high=20000, dtype=int, shape=()),\n",
    "    'upstream_n_cars_onramp1':   spaces.Box(low=0, high=20000, dtype=int, shape=()),\n",
    "    'upstream_n_lanes':          spaces.Box(low=1, high=7, dtype=int, shape=()),\n",
    "    'upstream_n_queued':         spaces.Box(low=0, high=20000, dtype=int, shape=()),\n",
    "    'upstream_speed':            spaces.Box(low=0, high=110, shape=()),\n",
    "    'upstream_detector1_flow':   spaces.Box(low=0, high=20000, dtype=int, shape=()),\n",
    "    'upstream_detector2_flow':   spaces.Box(low=0, high=20000, dtype=int, shape=()),\n",
    "    'upstream_detector3_flow':   spaces.Box(low=0, high=20000, dtype=int, shape=()),\n",
    "    'upstream_detector4_flow':   spaces.Box(low=0, high=20000, dtype=int, shape=()),\n",
    "    'upstream_detector5_flow':   spaces.Box(low=0, high=20000, dtype=int, shape=()),\n",
    "    'upstream_total_flow':       spaces.Box(low=0, high=20000, dtype=int, shape=()),\n",
    "    'downstream_demand':         spaces.Box(low=0, high=20000, dtype=int, shape=()),\n",
    "    'downstream_n_cars_highway': spaces.Box(low=0, high=20000, dtype=int, shape=()),\n",
    "    'downstream_n_cars_onramp0': spaces.Box(low=0, high=20000, dtype=int, shape=()),\n",
    "    'downstream_n_cars_onramp1': spaces.Box(low=0, high=20000, dtype=int, shape=()),\n",
    "    'downstream_n_lanes':        spaces.Box(low=1, high=7, dtype=int, shape=()),\n",
    "    'downstream_n_queued':       spaces.Box(low=0, high=20000, dtype=int, shape=()),\n",
    "    'downstream_speed':          spaces.Box(low=0, high=20000, dtype=int, shape=()),\n",
    "    'downstream_detector1_flow': spaces.Box(low=0, high=20000, dtype=int, shape=()),\n",
    "    'downstream_detector2_flow': spaces.Box(low=0, high=20000, dtype=int, shape=()),\n",
    "    'downstream_detector3_flow': spaces.Box(low=0, high=20000, dtype=int, shape=()),\n",
    "    'downstream_detector4_flow': spaces.Box(low=0, high=20000, dtype=int, shape=()),\n",
    "    'downstream_detector5_flow': spaces.Box(low=0, high=20000, dtype=int, shape=()),\n",
    "    'downstream_total_flow':     spaces.Box(low=0, high=20000, dtype=int, shape=()),\n",
    "})"
   ]
  },
  {
   "cell_type": "code",
   "execution_count": 28,
   "metadata": {},
   "outputs": [
    {
     "data": {
      "text/plain": [
       "26"
      ]
     },
     "execution_count": 28,
     "metadata": {},
     "output_type": "execute_result"
    }
   ],
   "source": [
    "len(observation_space.spaces)"
   ]
  },
  {
   "cell_type": "code",
   "execution_count": 32,
   "metadata": {},
   "outputs": [],
   "source": [
    "from keras.models import Sequential\n",
    "from keras.layers import Dense\n",
    "from keras.optimizers import Adam\n",
    "\n",
    "from rl.memory import SequentialMemory\n",
    "from rl.policy import LinearAnnealedPolicy, EpsGreedyQPolicy\n",
    "from rl.callbacks import ModelIntervalCheckpoint, FileLogger\n",
    "from rl.agents.dqn import DQNAgent"
   ]
  },
  {
   "cell_type": "code",
   "execution_count": 39,
   "metadata": {},
   "outputs": [
    {
     "name": "stdout",
     "output_type": "stream",
     "text": [
      "Model: \"sequential_5\"\n",
      "_________________________________________________________________\n",
      "Layer (type)                 Output Shape              Param #   \n",
      "=================================================================\n",
      "dense_8 (Dense)              (None, 24)                648       \n",
      "_________________________________________________________________\n",
      "dense_9 (Dense)              (None, 48)                1200      \n",
      "_________________________________________________________________\n",
      "dense_10 (Dense)             (None, 24)                1176      \n",
      "_________________________________________________________________\n",
      "dense_11 (Dense)             (None, 3)                 75        \n",
      "=================================================================\n",
      "Total params: 3,099\n",
      "Trainable params: 3,099\n",
      "Non-trainable params: 0\n",
      "_________________________________________________________________\n"
     ]
    }
   ],
   "source": [
    "model = Sequential()\n",
    "model.add(Dense(24, input_dim=len(observation_space.spaces), activation=\"relu\"))\n",
    "model.add(Dense(48, activation=\"relu\"))\n",
    "model.add(Dense(24, activation=\"relu\"))\n",
    "model.add(Dense(3))\n",
    "model.compile(loss=\"mean_squared_error\", optimizer=Adam(lr=0.01))\n",
    "\n",
    "model.summary()"
   ]
  },
  {
   "cell_type": "code",
   "execution_count": 46,
   "metadata": {},
   "outputs": [
    {
     "data": {
      "text/plain": [
       "{'upstream_demand': 0,\n",
       " 'upstream_n_cars_highway': 0,\n",
       " 'upstream_n_cars_onramp0': 0,\n",
       " 'upstream_n_cars_onramp1': 0,\n",
       " 'upstream_n_lanes': 4,\n",
       " 'upstream_n_queued': 0,\n",
       " 'upstream_speed': nan,\n",
       " 'upstream_detector1_flow': 0,\n",
       " 'upstream_detector2_flow': 0,\n",
       " 'upstream_detector3_flow': 0,\n",
       " 'upstream_detector4_flow': 0,\n",
       " 'upstream_detector5_flow': 0,\n",
       " 'upstream_total_flow': 0,\n",
       " 'downstream_demand': 0,\n",
       " 'downstream_n_cars_highway': 0,\n",
       " 'downstream_n_cars_onramp0': 0,\n",
       " 'downstream_n_cars_onramp1': 0,\n",
       " 'downstream_n_lanes': 4,\n",
       " 'downstream_n_queued': 0,\n",
       " 'downstream_speed': nan,\n",
       " 'downstream_detector1_flow': 0,\n",
       " 'downstream_detector2_flow': 0,\n",
       " 'downstream_detector3_flow': 0,\n",
       " 'downstream_detector4_flow': 0,\n",
       " 'downstream_detector5_flow': 0,\n",
       " 'downstream_total_flow': 0}"
      ]
     },
     "execution_count": 46,
     "metadata": {},
     "output_type": "execute_result"
    }
   ],
   "source": [
    "state = {'upstream_demand': 0, 'upstream_n_cars_highway': 0, 'upstream_n_cars_onramp0': 0, 'upstream_n_cars_onramp1': 0, 'upstream_n_lanes': 4, 'upstream_n_queued': 0, 'upstream_speed': nan, 'upstream_detector1_flow': 0, 'upstream_detector2_flow': 0, 'upstream_detector3_flow': 0, 'upstream_detector4_flow': 0, 'upstream_detector5_flow': 0, 'upstream_total_flow': 0, 'downstream_demand': 0, 'downstream_n_cars_highway': 0, 'downstream_n_cars_onramp0': 0, 'downstream_n_cars_onramp1': 0, 'downstream_n_lanes': 4, 'downstream_n_queued': 0, 'downstream_speed': nan, 'downstream_detector1_flow': 0, 'downstream_detector2_flow': 0, 'downstream_detector3_flow': 0, 'downstream_detector4_flow': 0, 'downstream_detector5_flow': 0, 'downstream_total_flow': 0}\n",
    "state"
   ]
  },
  {
   "cell_type": "code",
   "execution_count": 52,
   "metadata": {},
   "outputs": [
    {
     "data": {
      "text/plain": [
       "Box(26,)"
      ]
     },
     "execution_count": 52,
     "metadata": {},
     "output_type": "execute_result"
    }
   ],
   "source": [
    "spaces.Box(low=np.array([0 for _ in range(26)]), high=np.array([20000 for _ in range(26)]))"
   ]
  },
  {
   "cell_type": "code",
   "execution_count": 48,
   "metadata": {},
   "outputs": [
    {
     "ename": "TypeError",
     "evalue": "'int' object is not iterable",
     "output_type": "error",
     "traceback": [
      "\u001b[0;31m---------------------------------------------------------------------------\u001b[0m",
      "\u001b[0;31mTypeError\u001b[0m                                 Traceback (most recent call last)",
      "\u001b[0;32m<ipython-input-48-99390393488f>\u001b[0m in \u001b[0;36m<module>\u001b[0;34m\u001b[0m\n\u001b[0;32m----> 1\u001b[0;31m \u001b[0mobservation_space\u001b[0m\u001b[0;34m.\u001b[0m\u001b[0mfrom_jsonable\u001b[0m\u001b[0;34m(\u001b[0m\u001b[0mstate\u001b[0m\u001b[0;34m)\u001b[0m\u001b[0;34m\u001b[0m\u001b[0;34m\u001b[0m\u001b[0m\n\u001b[0m",
      "\u001b[0;32m~/.pyenv/versions/3.8.5/lib/python3.8/site-packages/gym/spaces/dict.py\u001b[0m in \u001b[0;36mfrom_jsonable\u001b[0;34m(self, sample_n)\u001b[0m\n\u001b[1;32m     75\u001b[0m         \u001b[0mdict_of_list\u001b[0m \u001b[0;34m=\u001b[0m \u001b[0;34m{\u001b[0m\u001b[0;34m}\u001b[0m\u001b[0;34m\u001b[0m\u001b[0;34m\u001b[0m\u001b[0m\n\u001b[1;32m     76\u001b[0m         \u001b[0;32mfor\u001b[0m \u001b[0mkey\u001b[0m\u001b[0;34m,\u001b[0m \u001b[0mspace\u001b[0m \u001b[0;32min\u001b[0m \u001b[0mself\u001b[0m\u001b[0;34m.\u001b[0m\u001b[0mspaces\u001b[0m\u001b[0;34m.\u001b[0m\u001b[0mitems\u001b[0m\u001b[0;34m(\u001b[0m\u001b[0;34m)\u001b[0m\u001b[0;34m:\u001b[0m\u001b[0;34m\u001b[0m\u001b[0;34m\u001b[0m\u001b[0m\n\u001b[0;32m---> 77\u001b[0;31m             \u001b[0mdict_of_list\u001b[0m\u001b[0;34m[\u001b[0m\u001b[0mkey\u001b[0m\u001b[0;34m]\u001b[0m \u001b[0;34m=\u001b[0m \u001b[0mspace\u001b[0m\u001b[0;34m.\u001b[0m\u001b[0mfrom_jsonable\u001b[0m\u001b[0;34m(\u001b[0m\u001b[0msample_n\u001b[0m\u001b[0;34m[\u001b[0m\u001b[0mkey\u001b[0m\u001b[0;34m]\u001b[0m\u001b[0;34m)\u001b[0m\u001b[0;34m\u001b[0m\u001b[0;34m\u001b[0m\u001b[0m\n\u001b[0m\u001b[1;32m     78\u001b[0m         \u001b[0mret\u001b[0m \u001b[0;34m=\u001b[0m \u001b[0;34m[\u001b[0m\u001b[0;34m]\u001b[0m\u001b[0;34m\u001b[0m\u001b[0;34m\u001b[0m\u001b[0m\n\u001b[1;32m     79\u001b[0m         \u001b[0;32mfor\u001b[0m \u001b[0mi\u001b[0m\u001b[0;34m,\u001b[0m \u001b[0m_\u001b[0m \u001b[0;32min\u001b[0m \u001b[0menumerate\u001b[0m\u001b[0;34m(\u001b[0m\u001b[0mdict_of_list\u001b[0m\u001b[0;34m[\u001b[0m\u001b[0mkey\u001b[0m\u001b[0;34m]\u001b[0m\u001b[0;34m)\u001b[0m\u001b[0;34m:\u001b[0m\u001b[0;34m\u001b[0m\u001b[0;34m\u001b[0m\u001b[0m\n",
      "\u001b[0;32m~/.pyenv/versions/3.8.5/lib/python3.8/site-packages/gym/spaces/box.py\u001b[0m in \u001b[0;36mfrom_jsonable\u001b[0;34m(self, sample_n)\u001b[0m\n\u001b[1;32m    132\u001b[0m \u001b[0;34m\u001b[0m\u001b[0m\n\u001b[1;32m    133\u001b[0m     \u001b[0;32mdef\u001b[0m \u001b[0mfrom_jsonable\u001b[0m\u001b[0;34m(\u001b[0m\u001b[0mself\u001b[0m\u001b[0;34m,\u001b[0m \u001b[0msample_n\u001b[0m\u001b[0;34m)\u001b[0m\u001b[0;34m:\u001b[0m\u001b[0;34m\u001b[0m\u001b[0;34m\u001b[0m\u001b[0m\n\u001b[0;32m--> 134\u001b[0;31m         \u001b[0;32mreturn\u001b[0m \u001b[0;34m[\u001b[0m\u001b[0mnp\u001b[0m\u001b[0;34m.\u001b[0m\u001b[0masarray\u001b[0m\u001b[0;34m(\u001b[0m\u001b[0msample\u001b[0m\u001b[0;34m)\u001b[0m \u001b[0;32mfor\u001b[0m \u001b[0msample\u001b[0m \u001b[0;32min\u001b[0m \u001b[0msample_n\u001b[0m\u001b[0;34m]\u001b[0m\u001b[0;34m\u001b[0m\u001b[0;34m\u001b[0m\u001b[0m\n\u001b[0m\u001b[1;32m    135\u001b[0m \u001b[0;34m\u001b[0m\u001b[0m\n\u001b[1;32m    136\u001b[0m     \u001b[0;32mdef\u001b[0m \u001b[0m__repr__\u001b[0m\u001b[0;34m(\u001b[0m\u001b[0mself\u001b[0m\u001b[0;34m)\u001b[0m\u001b[0;34m:\u001b[0m\u001b[0;34m\u001b[0m\u001b[0;34m\u001b[0m\u001b[0m\n",
      "\u001b[0;31mTypeError\u001b[0m: 'int' object is not iterable"
     ]
    }
   ],
   "source": [
    "observation_space.from_jsonable(state)"
   ]
  }
 ],
 "metadata": {
  "kernelspec": {
   "display_name": "Python 3",
   "language": "python",
   "name": "python3"
  },
  "language_info": {
   "codemirror_mode": {
    "name": "ipython",
    "version": 3
   },
   "file_extension": ".py",
   "mimetype": "text/x-python",
   "name": "python",
   "nbconvert_exporter": "python",
   "pygments_lexer": "ipython3",
   "version": "3.8.5"
  }
 },
 "nbformat": 4,
 "nbformat_minor": 4
}
