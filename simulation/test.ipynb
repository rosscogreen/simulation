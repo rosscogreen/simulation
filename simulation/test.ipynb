{
 "cells": [
  {
   "cell_type": "code",
   "execution_count": 1,
   "metadata": {},
   "outputs": [],
   "source": [
    "import sys\n",
    "sys.path.insert(0, '..')\n",
    "from simulation.road_factory import create_road\n",
    "from simulation import Car"
   ]
  },
  {
   "cell_type": "code",
   "execution_count": 2,
   "metadata": {},
   "outputs": [],
   "source": [
    "road = create_road()"
   ]
  },
  {
   "cell_type": "code",
   "execution_count": 4,
   "metadata": {},
   "outputs": [
    {
     "data": {
      "text/plain": [
       "('upstream_onramp0_runway_start', 'upstream_onramp0_converge_start', 0) (U) start=[0, 8] end=[5, 8], path=('upstream_onramp0_runway_start', 'upstream_onramp0_merge_end', 0)"
      ]
     },
     "execution_count": 4,
     "metadata": {},
     "output_type": "execute_result"
    }
   ],
   "source": [
    "lane = road.network.get_lane(('upstream_onramp0_runway_start', 'upstream_onramp0_converge_start', 0))\n",
    "lane"
   ]
  },
  {
   "cell_type": "code",
   "execution_count": 6,
   "metadata": {},
   "outputs": [
    {
     "data": {
      "text/plain": [
       "[('upstream_onramp0_converge_start', 'upstream_onramp0_merge_start', 0)]"
      ]
     },
     "execution_count": 6,
     "metadata": {},
     "output_type": "execute_result"
    }
   ],
   "source": [
    "lane.next_lane_index_options"
   ]
  },
  {
   "cell_type": "code",
   "execution_count": 8,
   "metadata": {},
   "outputs": [
    {
     "data": {
      "text/plain": [
       "('upstream_onramp0_converge_start', 'upstream_onramp0_merge_start', 0) (U) start=[5, 10] end=[25, 10], path=('upstream_onramp0_runway_start', 'upstream_onramp0_merge_end', 0)"
      ]
     },
     "execution_count": 8,
     "metadata": {},
     "output_type": "execute_result"
    }
   ],
   "source": [
    "if len(lane.next_lane_index_options) == 1:\n",
    "    next_lane_index = lane.next_lane_index_options[0]\n",
    "else:\n",
    "    next_lane_index = np.random.choice(lane.next_lane_index_options)\n",
    "\n",
    "next_lane = road.network.get_lane(next_lane_index)\n",
    "next_lane"
   ]
  },
  {
   "cell_type": "code",
   "execution_count": 5,
   "metadata": {},
   "outputs": [
    {
     "data": {
      "text/plain": [
       "('upstream_onramp0_runway_start', 'upstream_onramp0_converge_start', 0) (U) start=[0, 8] end=[5, 8], path=('upstream_onramp0_runway_start', 'upstream_onramp0_merge_end', 0)"
      ]
     },
     "execution_count": 5,
     "metadata": {},
     "output_type": "execute_result"
    }
   ],
   "source": [
    "road.network.get_next_lane(lane)"
   ]
  },
  {
   "cell_type": "code",
   "execution_count": 11,
   "metadata": {},
   "outputs": [
    {
     "data": {
      "text/plain": [
       "('upstream_offramp0_merge_start', 'upstream_offramp0_merge_end', 1) (U) start=[150, 16] end=[215, 16], path=('west', 'east', 1)"
      ]
     },
     "execution_count": 11,
     "metadata": {},
     "output_type": "execute_result"
    }
   ],
   "source": [
    "lane = road.network.get_lane(('upstream_offramp0_merge_start', 'upstream_offramp0_merge_end', 1))\n",
    "lane"
   ]
  },
  {
   "cell_type": "code",
   "execution_count": 12,
   "metadata": {},
   "outputs": [
    {
     "data": {
      "text/plain": [
       "[('upstream_offramp0_merge_end', 'upstream_onramp1_merge_start', 1),\n",
       " ('upstream_offramp0_merge_start', 'upstream_offramp0_merge_end', 0)]"
      ]
     },
     "execution_count": 12,
     "metadata": {},
     "output_type": "execute_result"
    }
   ],
   "source": [
    "lane.next_lane_index_options"
   ]
  },
  {
   "cell_type": "code",
   "execution_count": 16,
   "metadata": {},
   "outputs": [
    {
     "data": {
      "text/plain": [
       "('upstream_offramp0_merge_start', 'upstream_offramp0_merge_end', 0)"
      ]
     },
     "execution_count": 16,
     "metadata": {},
     "output_type": "execute_result"
    }
   ],
   "source": [
    "import random\n",
    "random.choice(lane.next_lane_index_options)"
   ]
  },
  {
   "cell_type": "code",
   "execution_count": 3,
   "metadata": {},
   "outputs": [
    {
     "data": {
      "text/plain": [
       "('upstream_onramp1_merge_start', 'upstream_onramp1_merge_end', 0) (U) start=[285, 12] end=[345, 12]"
      ]
     },
     "execution_count": 3,
     "metadata": {},
     "output_type": "execute_result"
    },
    {
     "data": {
      "text/plain": [
       "('west', 'upstream_onramp0_merge_start', 1) (U) start=[0, 16] end=[25, 16]"
      ]
     },
     "execution_count": 3,
     "metadata": {},
     "output_type": "execute_result"
    },
    {
     "data": {
      "text/plain": [
       "('west', 'east', 2) (U) start=[0, 20] end=[500, 20]"
      ]
     },
     "execution_count": 3,
     "metadata": {},
     "output_type": "execute_result"
    },
    {
     "data": {
      "text/plain": [
       "('west', 'east', 3) (U) start=[0, 24] end=[500, 24]"
      ]
     },
     "execution_count": 3,
     "metadata": {},
     "output_type": "execute_result"
    },
    {
     "data": {
      "text/plain": [
       "('west', 'east', 4) (U) start=[0, 28] end=[500, 28]"
      ]
     },
     "execution_count": 3,
     "metadata": {},
     "output_type": "execute_result"
    }
   ],
   "source": [
    "lane0 = road.network.get_lane(('upstream_onramp0_merge_start', 'upstream_onramp0_merge_end', 0))\n",
    "lane1 = road.network.get_lane(('west', 'upstream_onramp0_merge_start', 1))\n",
    "lane2 = road.network.get_lane(('west', 'east', 2))\n",
    "lane3 = road.network.get_lane(('west', 'east', 3))\n",
    "lane4 = road.network.get_lane(('west', 'east', 4))\n",
    "\n",
    "lane0\n",
    "lane1\n",
    "lane2\n",
    "lane3\n",
    "lane4"
   ]
  },
  {
   "cell_type": "code",
   "execution_count": 4,
   "metadata": {},
   "outputs": [
    {
     "data": {
      "text/plain": [
       "Car #288: at [285.0, 12.0], s: 0, v: 25.7, v0: 26.9, a: 0.0, ('upstream_onramp1_merge_start', 'upstream_onramp1_merge_end', 0)"
      ]
     },
     "execution_count": 4,
     "metadata": {},
     "output_type": "execute_result"
    },
    {
     "data": {
      "text/plain": [
       "Car #376: at [0.0, 16.0], s: 0, v: 27.6, v0: 26.1, a: 0.0, ('west', 'upstream_onramp0_merge_start', 1)"
      ]
     },
     "execution_count": 4,
     "metadata": {},
     "output_type": "execute_result"
    },
    {
     "data": {
      "text/plain": [
       "Car #336: at [0.0, 20.0], s: 0, v: 27.6, v0: 25.8, a: 0.0, ('west', 'east', 2)"
      ]
     },
     "execution_count": 4,
     "metadata": {},
     "output_type": "execute_result"
    },
    {
     "data": {
      "text/plain": [
       "Car #192: at [0.0, 24.0], s: 0, v: 24.0, v0: 27.6, a: 0.0, ('west', 'east', 3)"
      ]
     },
     "execution_count": 4,
     "metadata": {},
     "output_type": "execute_result"
    },
    {
     "data": {
      "text/plain": [
       "Car #384: at [0.0, 28.0], s: 0, v: 23.5, v0: 27.5, a: 0.0, ('west', 'east', 4)"
      ]
     },
     "execution_count": 4,
     "metadata": {},
     "output_type": "execute_result"
    }
   ],
   "source": [
    "car0 = Car.make_on_lane(road, lane0, longitudinal=0)\n",
    "car1 = Car.make_on_lane(road, lane1, longitudinal=0)\n",
    "car2 = Car.make_on_lane(road, lane2, longitudinal=0)\n",
    "car3 = Car.make_on_lane(road, lane3, longitudinal=0)\n",
    "car4 = Car.make_on_lane(road, lane4, longitudinal=0)\n",
    "\n",
    "car0\n",
    "car1\n",
    "car2\n",
    "car3\n",
    "car4"
   ]
  }
 ],
 "metadata": {
  "kernelspec": {
   "display_name": "Python 3",
   "language": "python",
   "name": "python3"
  },
  "language_info": {
   "codemirror_mode": {
    "name": "ipython",
    "version": 3
   },
   "file_extension": ".py",
   "mimetype": "text/x-python",
   "name": "python",
   "nbconvert_exporter": "python",
   "pygments_lexer": "ipython3",
   "version": "3.8.5"
  }
 },
 "nbformat": 4,
 "nbformat_minor": 4
}
