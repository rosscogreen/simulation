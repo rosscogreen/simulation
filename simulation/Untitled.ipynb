{
 "cells": [
  {
   "cell_type": "code",
   "execution_count": 41,
   "metadata": {},
   "outputs": [],
   "source": [
    "import sys\n",
    "sys.path.insert(0, '..')\n",
    "from simulation.road_factory import create_road"
   ]
  },
  {
   "cell_type": "code",
   "execution_count": 42,
   "metadata": {},
   "outputs": [],
   "source": [
    "road = create_road()"
   ]
  },
  {
   "cell_type": "code",
   "execution_count": 43,
   "metadata": {},
   "outputs": [],
   "source": [
    "demand = 8000\n",
    "length = 2\n",
    "speed = 95"
   ]
  },
  {
   "cell_type": "code",
   "execution_count": 47,
   "metadata": {},
   "outputs": [
    {
     "data": {
      "text/plain": [
       "84.21052631578948"
      ]
     },
     "execution_count": 47,
     "metadata": {},
     "output_type": "execute_result"
    },
    {
     "data": {
      "text/plain": [
       "21.05263157894737"
      ]
     },
     "execution_count": 47,
     "metadata": {},
     "output_type": "execute_result"
    }
   ],
   "source": [
    "density = demand / speed\n",
    "density\n",
    "d = density / 4\n",
    "d"
   ]
  },
  {
   "cell_type": "code",
   "execution_count": 34,
   "metadata": {},
   "outputs": [
    {
     "data": {
      "text/plain": [
       "('west', 'east', 2) (U)\n",
       "start=[0, 20] end=[500, 20]"
      ]
     },
     "execution_count": 34,
     "metadata": {},
     "output_type": "execute_result"
    }
   ],
   "source": [
    "lane = road.network.get_lane(('west', 'east', 2))\n",
    "lane"
   ]
  },
  {
   "cell_type": "code",
   "execution_count": 76,
   "metadata": {},
   "outputs": [
    {
     "data": {
      "text/plain": [
       "array([353.18684975, 252.52490469, 336.40068357, 248.52184095,\n",
       "        52.53505405, 195.65559352, 148.07394256, 186.55888703,\n",
       "       310.85151955,  87.07419008, 128.7217156 , 282.04078338,\n",
       "       246.82423051, 461.03525692, 226.57979748,  51.14100384,\n",
       "       179.21790951, 429.66764682,  83.08398955, 259.94277985])"
      ]
     },
     "execution_count": 76,
     "metadata": {},
     "output_type": "execute_result"
    }
   ],
   "source": [
    "np.random.uniform(0, 500, 20)"
   ]
  },
  {
   "cell_type": "code",
   "execution_count": 75,
   "metadata": {},
   "outputs": [
    {
     "data": {
      "text/plain": [
       "array([11.40566952, 21.33562133, 24.59338666, -2.63824674, 11.82732147,\n",
       "       28.94786645, 26.06948136, 12.0998358 , 11.67370502, 11.51397865,\n",
       "       17.51732514, 18.46631158, 16.28237555, 14.79719253, 30.55751805,\n",
       "       22.94861365, 22.80407069, 10.22983396, 24.97872564, 28.04158914,\n",
       "       12.17782257])"
      ]
     },
     "execution_count": 75,
     "metadata": {},
     "output_type": "execute_result"
    }
   ],
   "source": [
    "adds = np.random.normal(d, 10, int(d))\n",
    "adds"
   ]
  },
  {
   "cell_type": "code",
   "execution_count": 74,
   "metadata": {},
   "outputs": [
    {
     "data": {
      "text/plain": [
       "array([ 24.00376296,  45.48247005,  60.33295458,  81.14039217,\n",
       "        96.07175452, 116.99376854, 129.92276618, 152.13983824,\n",
       "       174.70480059, 189.47563956, 208.25220001, 229.52720567,\n",
       "       249.60624025, 269.7453176 , 290.49017674, 310.12651185,\n",
       "       327.48845649, 350.62636378, 370.42659073, 395.14300655,\n",
       "       415.09285353])"
      ]
     },
     "execution_count": 74,
     "metadata": {},
     "output_type": "execute_result"
    }
   ],
   "source": [
    "np.cumsum(adds)"
   ]
  },
  {
   "cell_type": "code",
   "execution_count": null,
   "metadata": {},
   "outputs": [],
   "source": []
  }
 ],
 "metadata": {
  "kernelspec": {
   "display_name": "Python 3",
   "language": "python",
   "name": "python3"
  },
  "language_info": {
   "codemirror_mode": {
    "name": "ipython",
    "version": 3
   },
   "file_extension": ".py",
   "mimetype": "text/x-python",
   "name": "python",
   "nbconvert_exporter": "python",
   "pygments_lexer": "ipython3",
   "version": "3.8.5"
  }
 },
 "nbformat": 4,
 "nbformat_minor": 4
}
