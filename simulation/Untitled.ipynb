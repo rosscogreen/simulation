{
 "cells": [
  {
   "cell_type": "code",
   "execution_count": 2,
   "metadata": {},
   "outputs": [
    {
     "data": {
      "text/plain": [
       "0"
      ]
     },
     "execution_count": 2,
     "metadata": {},
     "output_type": "execute_result"
    }
   ],
   "source": [
    "p1 = np.random.poisson(0.1*0.1)\n",
    "p1"
   ]
  },
  {
   "cell_type": "code",
   "execution_count": 3,
   "metadata": {},
   "outputs": [
    {
     "data": {
      "text/plain": [
       "\u001b[0;31mDocstring:\u001b[0m\n",
       "poisson(lam=1.0, size=None)\n",
       "\n",
       "Draw samples from a Poisson distribution.\n",
       "\n",
       "The Poisson distribution is the limit of the binomial distribution\n",
       "for large N.\n",
       "\n",
       ".. note::\n",
       "    New code should use the ``poisson`` method of a ``default_rng()``\n",
       "    instance instead; please see the :ref:`random-quick-start`.\n",
       "\n",
       "Parameters\n",
       "----------\n",
       "lam : float or array_like of floats\n",
       "    Expectation of interval, must be >= 0. A sequence of expectation\n",
       "    intervals must be broadcastable over the requested size.\n",
       "size : int or tuple of ints, optional\n",
       "    Output shape.  If the given shape is, e.g., ``(m, n, k)``, then\n",
       "    ``m * n * k`` samples are drawn.  If size is ``None`` (default),\n",
       "    a single value is returned if ``lam`` is a scalar. Otherwise,\n",
       "    ``np.array(lam).size`` samples are drawn.\n",
       "\n",
       "Returns\n",
       "-------\n",
       "out : ndarray or scalar\n",
       "    Drawn samples from the parameterized Poisson distribution.\n",
       "\n",
       "See Also\n",
       "--------\n",
       "Generator.poisson: which should be used for new code.\n",
       "\n",
       "Notes\n",
       "-----\n",
       "The Poisson distribution\n",
       "\n",
       ".. math:: f(k; \\lambda)=\\frac{\\lambda^k e^{-\\lambda}}{k!}\n",
       "\n",
       "For events with an expected separation :math:`\\lambda` the Poisson\n",
       "distribution :math:`f(k; \\lambda)` describes the probability of\n",
       ":math:`k` events occurring within the observed\n",
       "interval :math:`\\lambda`.\n",
       "\n",
       "Because the output is limited to the range of the C int64 type, a\n",
       "ValueError is raised when `lam` is within 10 sigma of the maximum\n",
       "representable value.\n",
       "\n",
       "References\n",
       "----------\n",
       ".. [1] Weisstein, Eric W. \"Poisson Distribution.\"\n",
       "       From MathWorld--A Wolfram Web Resource.\n",
       "       http://mathworld.wolfram.com/PoissonDistribution.html\n",
       ".. [2] Wikipedia, \"Poisson distribution\",\n",
       "       https://en.wikipedia.org/wiki/Poisson_distribution\n",
       "\n",
       "Examples\n",
       "--------\n",
       "Draw samples from the distribution:\n",
       "\n",
       ">>> import numpy as np\n",
       ">>> s = np.random.poisson(5, 10000)\n",
       "\n",
       "Display histogram of the sample:\n",
       "\n",
       ">>> import matplotlib.pyplot as plt\n",
       ">>> count, bins, ignored = plt.hist(s, 14, density=True)\n",
       ">>> plt.show()\n",
       "\n",
       "Draw each 100 values for lambda 100 and 500:\n",
       "\n",
       ">>> s = np.random.poisson(lam=(100., 500.), size=(100, 2))\n",
       "\u001b[0;31mType:\u001b[0m      builtin_function_or_method\n"
      ]
     },
     "metadata": {},
     "output_type": "display_data"
    }
   ],
   "source": [
    "np.random.poisson?"
   ]
  },
  {
   "cell_type": "code",
   "execution_count": 9,
   "metadata": {},
   "outputs": [
    {
     "data": {
      "text/plain": [
       "0.01000471"
      ]
     },
     "execution_count": 9,
     "metadata": {},
     "output_type": "execute_result"
    }
   ],
   "source": [
    "s = np.random.poisson(0.1 * 0.1, 100000000)\n",
    "np.mean(s)"
   ]
  },
  {
   "cell_type": "code",
   "execution_count": 18,
   "metadata": {},
   "outputs": [
    {
     "data": {
      "text/plain": [
       "0.016374615061559638"
      ]
     },
     "execution_count": 18,
     "metadata": {},
     "output_type": "execute_result"
    }
   ],
   "source": [
    "((2 * 0.1)**2 * np.exp(-2*0.1)) / 2"
   ]
  },
  {
   "cell_type": "code",
   "execution_count": null,
   "metadata": {},
   "outputs": [],
   "source": []
  }
 ],
 "metadata": {
  "kernelspec": {
   "display_name": "Python 3",
   "language": "python",
   "name": "python3"
  },
  "language_info": {
   "codemirror_mode": {
    "name": "ipython",
    "version": 3
   },
   "file_extension": ".py",
   "mimetype": "text/x-python",
   "name": "python",
   "nbconvert_exporter": "python",
   "pygments_lexer": "ipython3",
   "version": "3.8.5"
  }
 },
 "nbformat": 4,
 "nbformat_minor": 4
}
