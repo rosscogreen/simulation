{
 "cells": [
  {
   "cell_type": "code",
   "execution_count": 12,
   "metadata": {},
   "outputs": [],
   "source": [
    "import sys\n",
    "sys.path.insert(0, '../..')\n",
    "\n",
    "import numpy as np\n",
    "\n",
    "from simulation.road_factory import constants as c\n",
    "from simulation.road_factory.roads import create_road\n",
    "from simulation.custom_types import LaneIndex\n",
    "from simulation.car import Car\n",
    "from simulation.mobil import Mobil\n",
    "from simulation.idm import IDM\n",
    "from simulation import utils\n",
    "\n",
    "from operator import attrgetter\n",
    "from collections import defaultdict\n",
    "\n",
    "from numba import jit"
   ]
  },
  {
   "cell_type": "code",
   "execution_count": 1,
   "metadata": {},
   "outputs": [],
   "source": [
    "s = set()"
   ]
  },
  {
   "cell_type": "code",
   "execution_count": 3,
   "metadata": {},
   "outputs": [],
   "source": [
    "s.add('k')\n",
    "s.add('l')"
   ]
  },
  {
   "cell_type": "code",
   "execution_count": 4,
   "metadata": {},
   "outputs": [
    {
     "data": {
      "text/plain": [
       "True"
      ]
     },
     "execution_count": 4,
     "metadata": {},
     "output_type": "execute_result"
    }
   ],
   "source": [
    "'k' in s"
   ]
  },
  {
   "cell_type": "code",
   "execution_count": 13,
   "metadata": {},
   "outputs": [],
   "source": [
    "road = create_road()"
   ]
  },
  {
   "cell_type": "code",
   "execution_count": 4,
   "metadata": {},
   "outputs": [
    {
     "data": {
      "text/plain": [
       "['west', 'east']"
      ]
     },
     "execution_count": 4,
     "metadata": {},
     "output_type": "execute_result"
    }
   ],
   "source": [
    "lane = road.network.get_lane(LaneIndex('west', 'east', 0))\n",
    "road.network.get_path_from_lane_to_destination()"
   ]
  },
  {
   "cell_type": "code",
   "execution_count": 7,
   "metadata": {},
   "outputs": [
    {
     "data": {
      "text/plain": [
       "LaneIndex(origin='west', destination='upstream_onramp0_merge_start', index=1)"
      ]
     },
     "execution_count": 7,
     "metadata": {},
     "output_type": "execute_result"
    },
    {
     "data": {
      "text/plain": [
       "LaneIndex(origin='upstream_onramp0_merge_start', destination='upstream_onramp0_merge_end', index=1)"
      ]
     },
     "execution_count": 7,
     "metadata": {},
     "output_type": "execute_result"
    },
    {
     "data": {
      "text/plain": [
       "LaneIndex(origin='upstream_onramp0_merge_end', destination='upstream_offramp0_merge_start', index=1)"
      ]
     },
     "execution_count": 7,
     "metadata": {},
     "output_type": "execute_result"
    },
    {
     "data": {
      "text/plain": [
       "LaneIndex(origin='upstream_offramp0_merge_start', destination='upstream_offramp0_merge_end', index=1)"
      ]
     },
     "execution_count": 7,
     "metadata": {},
     "output_type": "execute_result"
    },
    {
     "data": {
      "text/plain": [
       "LaneIndex(origin='upstream_offramp0_merge_end', destination='upstream_onramp1_merge_start', index=1)"
      ]
     },
     "execution_count": 7,
     "metadata": {},
     "output_type": "execute_result"
    },
    {
     "data": {
      "text/plain": [
       "LaneIndex(origin='upstream_onramp1_merge_start', destination='upstream_onramp1_merge_end', index=1)"
      ]
     },
     "execution_count": 7,
     "metadata": {},
     "output_type": "execute_result"
    },
    {
     "data": {
      "text/plain": [
       "LaneIndex(origin='upstream_onramp1_merge_end', destination='upstream_offramp1_merge_start', index=1)"
      ]
     },
     "execution_count": 7,
     "metadata": {},
     "output_type": "execute_result"
    },
    {
     "data": {
      "text/plain": [
       "LaneIndex(origin='upstream_offramp1_merge_start', destination='upstream_offramp1_merge_end', index=1)"
      ]
     },
     "execution_count": 7,
     "metadata": {},
     "output_type": "execute_result"
    },
    {
     "data": {
      "text/plain": [
       "LaneIndex(origin='upstream_offramp1_merge_end', destination='east', index=1)"
      ]
     },
     "execution_count": 7,
     "metadata": {},
     "output_type": "execute_result"
    }
   ],
   "source": [
    "for lane in road.network.upstream_lane_list:\n",
    "    if lane.index == 1:\n",
    "        lane.lane_index"
   ]
  },
  {
   "cell_type": "code",
   "execution_count": 11,
   "metadata": {},
   "outputs": [
    {
     "data": {
      "text/plain": [
       "[1] upstream_offramp0_merge_start -> upstream_offramp0_merge_end (Upstream)\n",
       "[150, 16] -> [215, 16]"
      ]
     },
     "execution_count": 11,
     "metadata": {},
     "output_type": "execute_result"
    }
   ],
   "source": [
    "s = 200\n",
    "lanes = [l for l in road.network.upstream_lane_list if l.index == 1]\n",
    "for l in lanes:\n",
    "    if l.start_pos[0] < s < l.end_pos[0]:\n",
    "        l"
   ]
  },
  {
   "cell_type": "code",
   "execution_count": null,
   "metadata": {},
   "outputs": [],
   "source": [
    "s = 200\n",
    "for lane in road.network.upstream_lane_list:\n",
    "    if lane.index == 1:\n",
    "        "
   ]
  },
  {
   "cell_type": "code",
   "execution_count": 3,
   "metadata": {},
   "outputs": [
    {
     "name": "stdout",
     "output_type": "stream",
     "text": [
      "200 cars created\n"
     ]
    }
   ],
   "source": [
    "source_lanes = road.network.upstream_source_lanes + road.network.downstream_source_lanes\n",
    "n = 200\n",
    "for _ in range(n):\n",
    "    lane = np.random.choice(source_lanes)\n",
    "    s = np.random.uniform(0, lane.length)\n",
    "    car = Car.make_on_lane(road, lane, longitudinal=s)\n",
    "\n",
    "print(f'{len(road.cars)} cars created')"
   ]
  },
  {
   "cell_type": "code",
   "execution_count": 4,
   "metadata": {},
   "outputs": [
    {
     "name": "stdout",
     "output_type": "stream",
     "text": [
      "200 cars created\n"
     ]
    }
   ],
   "source": [
    "n = 200\n",
    "l = lane.length\n",
    "for _ in range(n):\n",
    "    s = np.random.uniform(0, l)\n",
    "    car = Car.make_on_lane(road, lane, longitudinal=s)\n",
    "print(f'{len(road.cars)} cars created')"
   ]
  },
  {
   "cell_type": "code",
   "execution_count": 106,
   "metadata": {},
   "outputs": [
    {
     "name": "stdout",
     "output_type": "stream",
     "text": [
      "\n"
     ]
    }
   ],
   "source": [
    "l1 = LaneIndex(origin='upstream_onramp0_merge_start', destination='upstream_onramp0_merge_end', index=1)\n",
    "l2 = LaneIndex(origin='upstream_onramp0_merge_start', destination='upstream_onramp0_merge_end', index=0)\n",
    "\n",
    "lane1 = road.network.get_lane(l1)\n",
    "lane2 = road.network.get_lane(l2)\n",
    "\n",
    "car1 = Car.make_on_lane(road, lane1, longitudinal=11)\n",
    "car2 = Car.make_on_lane(road, lane2, longitudinal=0)\n",
    "\n",
    "road.step(0.00001)"
   ]
  },
  {
   "cell_type": "code",
   "execution_count": 95,
   "metadata": {},
   "outputs": [
    {
     "name": "stdout",
     "output_type": "stream",
     "text": [
      "\n",
      "\n",
      "\n"
     ]
    }
   ],
   "source": [
    "road.step(0.00001)"
   ]
  },
  {
   "cell_type": "code",
   "execution_count": 107,
   "metadata": {},
   "outputs": [
    {
     "data": {
      "text/plain": [
       "[1] Car #928: at [36.0, 16.0], s: 11, v: 28.0, v0: 28, a: 0.0, upstream_onramp0_merge_start -> upstream_onramp0_merge_end"
      ]
     },
     "execution_count": 107,
     "metadata": {},
     "output_type": "execute_result"
    },
    {
     "data": {
      "text/plain": [
       "[0] Car #544: at [25.0, 12.0], s: 0, v: 28.0, v0: 28, a: -10.0, upstream_onramp0_merge_start -> upstream_onramp0_merge_end"
      ]
     },
     "execution_count": 107,
     "metadata": {},
     "output_type": "execute_result"
    }
   ],
   "source": [
    "car1\n",
    "car2"
   ]
  },
  {
   "cell_type": "code",
   "execution_count": 108,
   "metadata": {},
   "outputs": [
    {
     "data": {
      "text/plain": [
       "LaneIndex(origin='upstream_onramp0_merge_start', destination='upstream_onramp0_merge_end', index=0)"
      ]
     },
     "execution_count": 108,
     "metadata": {},
     "output_type": "execute_result"
    }
   ],
   "source": [
    "car1.lane.priority_lane_index"
   ]
  },
  {
   "cell_type": "code",
   "execution_count": 109,
   "metadata": {},
   "outputs": [
    {
     "data": {
      "text/plain": [
       "[0] upstream_onramp0_merge_start -> upstream_onramp0_merge_end (Upstream)\n",
       "[25, 12] -> [85, 12]"
      ]
     },
     "execution_count": 109,
     "metadata": {},
     "output_type": "execute_result"
    }
   ],
   "source": [
    "priority_lane = road.network.get_lane(car1.lane.priority_lane_index)\n",
    "priority_lane"
   ]
  },
  {
   "cell_type": "code",
   "execution_count": 110,
   "metadata": {},
   "outputs": [],
   "source": [
    "fwd, bwd = car1.get_neighbours(priority_lane, include_obstacles=False)\n",
    "fwd"
   ]
  },
  {
   "cell_type": "code",
   "execution_count": 112,
   "metadata": {},
   "outputs": [
    {
     "data": {
      "text/plain": [
       "Obstacle #936: at (85.0,12.0) on Up0 upstream_onramp0_merge_start->upstream_onramp0_merge_end"
      ]
     },
     "execution_count": 112,
     "metadata": {},
     "output_type": "execute_result"
    }
   ],
   "source": [
    "car2.fwd"
   ]
  },
  {
   "cell_type": "code",
   "execution_count": 111,
   "metadata": {},
   "outputs": [],
   "source": [
    "car1.fwd"
   ]
  },
  {
   "cell_type": "code",
   "execution_count": 87,
   "metadata": {},
   "outputs": [
    {
     "data": {
      "text/plain": [
       "11.999997374852725"
      ]
     },
     "execution_count": 87,
     "metadata": {},
     "output_type": "execute_result"
    }
   ],
   "source": [
    "car1.lane_distance_to(fwd)"
   ]
  },
  {
   "cell_type": "code",
   "execution_count": 88,
   "metadata": {},
   "outputs": [
    {
     "data": {
      "text/plain": [
       "-0.3491499445548798"
      ]
     },
     "execution_count": 88,
     "metadata": {},
     "output_type": "execute_result"
    }
   ],
   "source": [
    "IDM.calc_acceleration(car1, car2)"
   ]
  },
  {
   "cell_type": "code",
   "execution_count": 89,
   "metadata": {},
   "outputs": [
    {
     "name": "stdout",
     "output_type": "stream",
     "text": [
      "\n"
     ]
    },
    {
     "data": {
      "text/plain": [
       "-0.3491499445548798"
      ]
     },
     "execution_count": 89,
     "metadata": {},
     "output_type": "execute_result"
    }
   ],
   "source": [
    "car1.calc_acceleration()"
   ]
  },
  {
   "cell_type": "code",
   "execution_count": 113,
   "metadata": {},
   "outputs": [
    {
     "data": {
      "text/plain": [
       "(None, None)"
      ]
     },
     "execution_count": 113,
     "metadata": {},
     "output_type": "execute_result"
    }
   ],
   "source": [
    "car2.get_neighbours()"
   ]
  },
  {
   "cell_type": "code",
   "execution_count": 114,
   "metadata": {},
   "outputs": [
    {
     "data": {
      "text/plain": [
       "-10.0"
      ]
     },
     "execution_count": 114,
     "metadata": {},
     "output_type": "execute_result"
    }
   ],
   "source": [
    "car2.acceleration"
   ]
  },
  {
   "cell_type": "code",
   "execution_count": 94,
   "metadata": {},
   "outputs": [
    {
     "data": {
      "text/plain": [
       "2.8571275510591576e-05"
      ]
     },
     "execution_count": 94,
     "metadata": {},
     "output_type": "execute_result"
    }
   ],
   "source": [
    "IDM.calc_acceleration(car2, None)"
   ]
  },
  {
   "cell_type": "code",
   "execution_count": 115,
   "metadata": {},
   "outputs": [
    {
     "data": {
      "text/plain": [
       "59.99972262514727"
      ]
     },
     "execution_count": 115,
     "metadata": {},
     "output_type": "execute_result"
    }
   ],
   "source": [
    "car2.lane_distance_to(car2.fwd)"
   ]
  },
  {
   "cell_type": "code",
   "execution_count": 116,
   "metadata": {},
   "outputs": [
    {
     "data": {
      "text/plain": [
       "-10.0"
      ]
     },
     "execution_count": 116,
     "metadata": {},
     "output_type": "execute_result"
    }
   ],
   "source": [
    "IDM.calc_acceleration(car2, car2.fwd)"
   ]
  },
  {
   "cell_type": "code",
   "execution_count": 99,
   "metadata": {},
   "outputs": [
    {
     "data": {
      "text/plain": [
       "-10.0"
      ]
     },
     "execution_count": 99,
     "metadata": {},
     "output_type": "execute_result"
    }
   ],
   "source": [
    "car2.calc_acceleration()"
   ]
  },
  {
   "cell_type": "code",
   "execution_count": 3,
   "metadata": {},
   "outputs": [
    {
     "data": {
      "text/plain": [
       "[0] upstream_onramp0_merge_start -> upstream_onramp0_merge_end (Upstream)\n",
       "[25, 12] -> [85, 12]"
      ]
     },
     "execution_count": 3,
     "metadata": {},
     "output_type": "execute_result"
    },
    {
     "data": {
      "text/plain": [
       "[1] upstream_onramp0_merge_start -> upstream_onramp0_merge_end (Upstream)\n",
       "[25, 16] -> [90, 16]"
      ]
     },
     "execution_count": 3,
     "metadata": {},
     "output_type": "execute_result"
    },
    {
     "data": {
      "text/plain": [
       "[2] west -> east (Upstream)\n",
       "[0, 20] -> [500, 20]"
      ]
     },
     "execution_count": 3,
     "metadata": {},
     "output_type": "execute_result"
    }
   ],
   "source": [
    "l1 = LaneIndex('upstream_onramp0_merge_start', 'upstream_onramp0_merge_end', 0)\n",
    "l2 = LaneIndex('upstream_onramp0_merge_start', 'upstream_onramp0_merge_end', 1)\n",
    "l3 = LaneIndex('west', 'east', 2)\n",
    "\n",
    "lane1 = road.network.get_lane(l1)\n",
    "lane2 = road.network.get_lane(l2)\n",
    "lane3 = road.network.get_lane(l3)\n",
    "\n",
    "lane1\n",
    "lane2\n",
    "lane3"
   ]
  },
  {
   "cell_type": "code",
   "execution_count": 4,
   "metadata": {},
   "outputs": [
    {
     "data": {
      "text/plain": [
       "Car #816: at [31.0, 12.0] s: 0\n",
       "v: 28m/s, v0: 28m/s, a: 0.0m/s2\n",
       "[0] upstream_onramp0_merge_start -> upstream_onramp0_merge_end (Up)"
      ]
     },
     "execution_count": 4,
     "metadata": {},
     "output_type": "execute_result"
    },
    {
     "data": {
      "text/plain": [
       "Car #680: at [38.0, 16.0] s: 0\n",
       "v: 28m/s, v0: 28m/s, a: 0.0m/s2\n",
       "[1] upstream_onramp0_merge_start -> upstream_onramp0_merge_end (Up)"
      ]
     },
     "execution_count": 4,
     "metadata": {},
     "output_type": "execute_result"
    },
    {
     "data": {
      "text/plain": [
       "Car #632: at [26.0, 16.0] s: 0\n",
       "v: 28m/s, v0: 28m/s, a: 0.0m/s2\n",
       "[1] upstream_onramp0_merge_start -> upstream_onramp0_merge_end (Up)"
      ]
     },
     "execution_count": 4,
     "metadata": {},
     "output_type": "execute_result"
    }
   ],
   "source": [
    "car1 = Car.make_on_lane(road, lane1, longitudinal=6)\n",
    "car2 = Car.make_on_lane(road, lane2, longitudinal=13)\n",
    "car3 = Car.make_on_lane(road, lane2, longitudinal=1)\n",
    "\n",
    "car1\n",
    "car2\n",
    "car3"
   ]
  },
  {
   "cell_type": "code",
   "execution_count": 23,
   "metadata": {},
   "outputs": [
    {
     "name": "stdout",
     "output_type": "stream",
     "text": [
      "\n"
     ]
    }
   ],
   "source": [
    "road.step(0.0001)"
   ]
  },
  {
   "cell_type": "code",
   "execution_count": 119,
   "metadata": {},
   "outputs": [],
   "source": [
    "l = ['a', 'b', None, 'c', None, 'd']"
   ]
  },
  {
   "cell_type": "code",
   "execution_count": 122,
   "metadata": {},
   "outputs": [
    {
     "name": "stderr",
     "output_type": "stream",
     "text": [
      "[autoreload of simulation.envs.highway_env failed: Traceback (most recent call last):\n",
      "  File \"/Users/rossgreen/.pyenv/versions/3.8.5/lib/python3.8/site-packages/IPython/extensions/autoreload.py\", line 245, in check\n",
      "    superreload(m, reload, self.old_objects)\n",
      "  File \"/Users/rossgreen/.pyenv/versions/3.8.5/lib/python3.8/site-packages/IPython/extensions/autoreload.py\", line 394, in superreload\n",
      "    module = reload(module)\n",
      "  File \"/Users/rossgreen/.pyenv/versions/3.8.5/lib/python3.8/imp.py\", line 314, in reload\n",
      "    return importlib.reload(module)\n",
      "  File \"/Users/rossgreen/.pyenv/versions/3.8.5/lib/python3.8/importlib/__init__.py\", line 169, in reload\n",
      "    _bootstrap._exec(spec, module)\n",
      "  File \"<frozen importlib._bootstrap>\", line 604, in _exec\n",
      "  File \"<frozen importlib._bootstrap_external>\", line 783, in exec_module\n",
      "  File \"<frozen importlib._bootstrap>\", line 219, in _call_with_frames_removed\n",
      "  File \"../../simulation/envs/highway_env.py\", line 315, in <module>\n",
      "    register(id='highway-v0', entry_point='simulation.envs:HighwayEnv')\n",
      "  File \"/Users/rossgreen/.pyenv/versions/3.8.5/lib/python3.8/site-packages/gym/envs/registration.py\", line 142, in register\n",
      "    return registry.register(id, **kwargs)\n",
      "  File \"/Users/rossgreen/.pyenv/versions/3.8.5/lib/python3.8/site-packages/gym/envs/registration.py\", line 135, in register\n",
      "    raise error.Error('Cannot re-register id: {}'.format(id))\n",
      "gym.error.Error: Cannot re-register id: highway-v0\n",
      "]\n"
     ]
    },
    {
     "data": {
      "text/plain": [
       "['west', 'east']"
      ]
     },
     "execution_count": 122,
     "metadata": {},
     "output_type": "execute_result"
    }
   ],
   "source": [
    "road.network.shortest_path('west', 'east')"
   ]
  },
  {
   "cell_type": "code",
   "execution_count": 24,
   "metadata": {},
   "outputs": [
    {
     "data": {
      "text/plain": [
       "[(Car #680: at [38.0, 16.0] s: 13.0028\n",
       "  v: 28.0m/s, v0: 28m/s, a: 0.0m/s2\n",
       "  [1] upstream_onramp0_merge_start -> upstream_onramp0_merge_end (Up),\n",
       "  13.0028),\n",
       " (Car #632: at [26.0, 16.0] s: 1.0028000000000006\n",
       "  v: 28.0m/s, v0: 28m/s, a: -1.4m/s2\n",
       "  [1] upstream_onramp0_merge_start -> upstream_onramp0_merge_end (Up),\n",
       "  1.0028000000000006)]"
      ]
     },
     "execution_count": 24,
     "metadata": {},
     "output_type": "execute_result"
    }
   ],
   "source": [
    "lane = lane2\n",
    "car = car1\n",
    "cars = [(c, c.s if lane.same_lane(c.lane) else lane.s(c.position))\n",
    "                for c in road.cars if road.lanes_connected(lane, c.lane) and c is not car]\n",
    "cars"
   ]
  },
  {
   "cell_type": "code",
   "execution_count": 18,
   "metadata": {},
   "outputs": [
    {
     "data": {
      "text/plain": [
       "True"
      ]
     },
     "execution_count": 18,
     "metadata": {},
     "output_type": "execute_result"
    }
   ],
   "source": [
    "lane.same_lane(car2.lane)"
   ]
  },
  {
   "cell_type": "code",
   "execution_count": 19,
   "metadata": {},
   "outputs": [
    {
     "data": {
      "text/plain": [
       "0"
      ]
     },
     "execution_count": 19,
     "metadata": {},
     "output_type": "execute_result"
    }
   ],
   "source": [
    "car2.s"
   ]
  },
  {
   "cell_type": "code",
   "execution_count": 5,
   "metadata": {},
   "outputs": [
    {
     "data": {
      "text/plain": [
       "(Car #680: at [38.0, 16.0] s: 0\n",
       " v: 28m/s, v0: 28m/s, a: 0.0m/s2\n",
       " [1] upstream_onramp0_merge_start -> upstream_onramp0_merge_end (Up),\n",
       " Car #632: at [26.0, 16.0] s: 0\n",
       " v: 28m/s, v0: 28m/s, a: 0.0m/s2\n",
       " [1] upstream_onramp0_merge_start -> upstream_onramp0_merge_end (Up))"
      ]
     },
     "execution_count": 5,
     "metadata": {},
     "output_type": "execute_result"
    }
   ],
   "source": [
    "fwd, bwd = road.get_neighbours2(car1, lane2)\n",
    "fwd, bwd"
   ]
  },
  {
   "cell_type": "code",
   "execution_count": 13,
   "metadata": {},
   "outputs": [
    {
     "data": {
      "text/plain": [
       "(Car #680: at [38.0, 16.0] s: 0\n",
       " v: 28m/s, v0: 28m/s, a: 0.0m/s2\n",
       " [1] upstream_onramp0_merge_start -> upstream_onramp0_merge_end (Up),\n",
       " Car #632: at [26.0, 16.0] s: 0\n",
       " v: 28m/s, v0: 28m/s, a: 0.0m/s2\n",
       " [1] upstream_onramp0_merge_start -> upstream_onramp0_merge_end (Up))"
      ]
     },
     "execution_count": 13,
     "metadata": {},
     "output_type": "execute_result"
    }
   ],
   "source": [
    "fwd, bwd = road.get_neighbours(car1, lane2)\n",
    "fwd, bwd"
   ]
  },
  {
   "cell_type": "code",
   "execution_count": 139,
   "metadata": {},
   "outputs": [
    {
     "data": {
      "text/plain": [
       "(None, None)"
      ]
     },
     "execution_count": 139,
     "metadata": {},
     "output_type": "execute_result"
    }
   ],
   "source": [
    "car1.get_neighours()"
   ]
  },
  {
   "cell_type": "code",
   "execution_count": 140,
   "metadata": {},
   "outputs": [
    {
     "data": {
      "text/plain": [
       "(Car #824: at [38.0, 16.0] s: 13.0\n",
       " v: 28m/s, v0: 28m/s, a: 0.0m/s2\n",
       " [1] upstream_onramp0_merge_start -> upstream_onramp0_merge_end (Up),\n",
       " Car #120: at [26.0, 16.0] s: 1.0\n",
       " v: 28m/s, v0: 28m/s, a: 0.0m/s2\n",
       " [1] upstream_onramp0_merge_start -> upstream_onramp0_merge_end (Up))"
      ]
     },
     "execution_count": 140,
     "metadata": {},
     "output_type": "execute_result"
    }
   ],
   "source": [
    "car1.get_neighours(lane2)"
   ]
  },
  {
   "cell_type": "code",
   "execution_count": 110,
   "metadata": {},
   "outputs": [
    {
     "data": {
      "text/plain": [
       "5.600000000000001"
      ]
     },
     "execution_count": 110,
     "metadata": {},
     "output_type": "execute_result"
    },
    {
     "data": {
      "text/plain": [
       "-6.399999999999999"
      ]
     },
     "execution_count": 110,
     "metadata": {},
     "output_type": "execute_result"
    }
   ],
   "source": [
    "car1.lane_distance_to(fwd, lane2)\n",
    "car1.lane_distance_to(bwd, lane2)"
   ]
  },
  {
   "cell_type": "code",
   "execution_count": 111,
   "metadata": {},
   "outputs": [
    {
     "data": {
      "text/plain": [
       "[1] upstream_onramp0_merge_end -> upstream_offramp0_merge_start (Upstream)\n",
       "[90, 16] -> [150, 16]"
      ]
     },
     "execution_count": 111,
     "metadata": {},
     "output_type": "execute_result"
    }
   ],
   "source": [
    "car1.next_lane()"
   ]
  },
  {
   "cell_type": "code",
   "execution_count": 106,
   "metadata": {},
   "outputs": [],
   "source": [
    "car2.get_priority_car()"
   ]
  },
  {
   "cell_type": "code",
   "execution_count": 107,
   "metadata": {},
   "outputs": [
    {
     "data": {
      "text/plain": [
       "Car #104: at [32.4, 12.0] s: 7.399999999999999\n",
       "v: 28.0m/s, v0: 28m/s, a: 0.0m/s2\n",
       "[0] upstream_onramp0_merge_start -> upstream_onramp0_merge_end (Up)"
      ]
     },
     "execution_count": 107,
     "metadata": {},
     "output_type": "execute_result"
    }
   ],
   "source": [
    "car3.get_priority_car()"
   ]
  },
  {
   "cell_type": "code",
   "execution_count": 116,
   "metadata": {},
   "outputs": [
    {
     "data": {
      "text/plain": [
       "1"
      ]
     },
     "execution_count": 116,
     "metadata": {},
     "output_type": "execute_result"
    }
   ],
   "source": [
    "right_bias = car1.get_right_bias(lane2)\n",
    "right_bias"
   ]
  },
  {
   "cell_type": "code",
   "execution_count": 129,
   "metadata": {},
   "outputs": [
    {
     "data": {
      "text/plain": [
       "-0.3472222222222222"
      ]
     },
     "execution_count": 129,
     "metadata": {},
     "output_type": "execute_result"
    }
   ],
   "source": [
    "IDM.calc_acceleration(car3, car2)"
   ]
  },
  {
   "cell_type": "code",
   "execution_count": 130,
   "metadata": {},
   "outputs": [
    {
     "data": {
      "text/plain": [
       "-1.2207031250000007"
      ]
     },
     "execution_count": 130,
     "metadata": {},
     "output_type": "execute_result"
    }
   ],
   "source": [
    "IDM.calc_acceleration(car3, car1)"
   ]
  },
  {
   "cell_type": "code",
   "execution_count": 131,
   "metadata": {},
   "outputs": [
    {
     "name": "stdout",
     "output_type": "stream",
     "text": [
      "Car #104: at [32.4, 12.0] s: 7.399999999999999\n",
      "v: 28.0m/s, v0: 28m/s, a: 0.0m/s2\n",
      "[0] upstream_onramp0_merge_start -> upstream_onramp0_merge_end (Up)\n"
     ]
    },
    {
     "data": {
      "text/plain": [
       "-1.2207031250000007"
      ]
     },
     "execution_count": 131,
     "metadata": {},
     "output_type": "execute_result"
    }
   ],
   "source": [
    "car3.calc_acceleration(car2)"
   ]
  },
  {
   "cell_type": "code",
   "execution_count": 127,
   "metadata": {},
   "outputs": [],
   "source": [
    "car2.get_priority_car()"
   ]
  },
  {
   "cell_type": "code",
   "execution_count": 124,
   "metadata": {},
   "outputs": [
    {
     "name": "stdout",
     "output_type": "stream",
     "text": [
      "\n"
     ]
    },
    {
     "data": {
      "text/plain": [
       "True"
      ]
     },
     "execution_count": 124,
     "metadata": {},
     "output_type": "execute_result"
    }
   ],
   "source": [
    "Mobil.should_change(lane=lane,\n",
    "                   me=car1,\n",
    "                   fwd_old=None,\n",
    "                   bwd_old=None,\n",
    "                   fwd_new=fwd,\n",
    "                   bwd_new=bwd,\n",
    "                   right_bias=right_bias)"
   ]
  },
  {
   "cell_type": "code",
   "execution_count": 56,
   "metadata": {},
   "outputs": [
    {
     "data": {
      "text/plain": [
       "[1] upstream_onramp0_merge_end -> upstream_offramp0_merge_start (Upstream)\n",
       "[90, 16] -> [150, 16]"
      ]
     },
     "execution_count": 56,
     "metadata": {},
     "output_type": "execute_result"
    },
    {
     "data": {
      "text/plain": [
       "[1] upstream_offramp0_merge_start -> upstream_offramp0_merge_end (Upstream)\n",
       "[150, 16] -> [215, 16]"
      ]
     },
     "execution_count": 56,
     "metadata": {},
     "output_type": "execute_result"
    }
   ],
   "source": [
    "l1 = LaneIndex('upstream_onramp0_merge_end', 'upstream_offramp0_merge_start', 1)\n",
    "l2 = LaneIndex('upstream_offramp0_merge_start', 'upstream_offramp0_merge_end', 1)\n",
    "lane1 = road.network.get_lane(l1)\n",
    "lane2 = road.network.get_lane(l2)\n",
    "lane1\n",
    "lane2"
   ]
  },
  {
   "cell_type": "code",
   "execution_count": 57,
   "metadata": {},
   "outputs": [
    {
     "data": {
      "text/plain": [
       "Car #368: at [100.0, 16.0] s: 10.0\n",
       "v: 28m/s, v0: 28m/s, a: 0.0m/s2\n",
       "[1] upstream_onramp0_merge_end -> upstream_offramp0_merge_start (Up)"
      ]
     },
     "execution_count": 57,
     "metadata": {},
     "output_type": "execute_result"
    },
    {
     "data": {
      "text/plain": [
       "Car #992: at [160.0, 16.0] s: 10.0\n",
       "v: 28m/s, v0: 28m/s, a: 0.0m/s2\n",
       "[1] upstream_offramp0_merge_start -> upstream_offramp0_merge_end (Up)"
      ]
     },
     "execution_count": 57,
     "metadata": {},
     "output_type": "execute_result"
    }
   ],
   "source": [
    "car1 = Car.make_on_lane(road, lane1, longitudinal=10)\n",
    "car2 = Car.make_on_lane(road, lane2, longitudinal=10)\n",
    "car1\n",
    "car2"
   ]
  },
  {
   "cell_type": "code",
   "execution_count": 49,
   "metadata": {},
   "outputs": [
    {
     "data": {
      "text/plain": [
       "Car #784: at [100.0, 16.0] s: 10.0\n",
       "v: 28m/s, v0: 28m/s, a: 0.0m/s2\n",
       "[1] upstream_onramp0_merge_end -> upstream_offramp0_merge_start (Up)"
      ]
     },
     "execution_count": 49,
     "metadata": {},
     "output_type": "execute_result"
    },
    {
     "data": {
      "text/plain": [
       "[1] upstream_onramp0_merge_end -> upstream_offramp0_merge_start (Upstream)\n",
       "[90, 16] -> [150, 16]"
      ]
     },
     "execution_count": 49,
     "metadata": {},
     "output_type": "execute_result"
    }
   ],
   "source": [
    "car = car1\n",
    "lane = car1.lane\n",
    "car\n",
    "lane"
   ]
  },
  {
   "cell_type": "code",
   "execution_count": 50,
   "metadata": {},
   "outputs": [
    {
     "data": {
      "text/plain": [
       "[Car #848: at [160.0, 16.0] s: 10.0\n",
       " v: 28m/s, v0: 28m/s, a: 0.0m/s2\n",
       " [1] upstream_offramp0_merge_start -> upstream_offramp0_merge_end (Up)]"
      ]
     },
     "execution_count": 50,
     "metadata": {},
     "output_type": "execute_result"
    }
   ],
   "source": [
    "cars = [c for c in road.cars if road.lanes_connected(lane, c.lane) and c is not car]\n",
    "cars"
   ]
  },
  {
   "cell_type": "code",
   "execution_count": 51,
   "metadata": {},
   "outputs": [
    {
     "data": {
      "text/plain": [
       "[70.0]"
      ]
     },
     "execution_count": 51,
     "metadata": {},
     "output_type": "execute_result"
    }
   ],
   "source": [
    "longs = [lane.s(c.position) for c in cars]\n",
    "longs"
   ]
  },
  {
   "cell_type": "code",
   "execution_count": 14,
   "metadata": {},
   "outputs": [
    {
     "name": "stdout",
     "output_type": "stream",
     "text": [
      "14.8 µs ± 143 ns per loop (mean ± std. dev. of 7 runs, 100000 loops each)\n"
     ]
    }
   ],
   "source": [
    "%%timeit \n",
    "road.get_neighbours(car1, lane2)"
   ]
  },
  {
   "cell_type": "code",
   "execution_count": 25,
   "metadata": {},
   "outputs": [
    {
     "name": "stdout",
     "output_type": "stream",
     "text": [
      "7.36 µs ± 135 ns per loop (mean ± std. dev. of 7 runs, 100000 loops each)\n"
     ]
    }
   ],
   "source": [
    "%%timeit \n",
    "road.get_neighbours(car1, lane2)"
   ]
  },
  {
   "cell_type": "code",
   "execution_count": 15,
   "metadata": {},
   "outputs": [
    {
     "name": "stdout",
     "output_type": "stream",
     "text": [
      "15.6 µs ± 772 ns per loop (mean ± std. dev. of 7 runs, 100000 loops each)\n"
     ]
    }
   ],
   "source": [
    "%%timeit\n",
    "road.get_neighbours2(car1, lane2)"
   ]
  }
 ],
 "metadata": {
  "kernelspec": {
   "display_name": "Python 3",
   "language": "python",
   "name": "python3"
  },
  "language_info": {
   "codemirror_mode": {
    "name": "ipython",
    "version": 3
   },
   "file_extension": ".py",
   "mimetype": "text/x-python",
   "name": "python",
   "nbconvert_exporter": "python",
   "pygments_lexer": "ipython3",
   "version": "3.8.5"
  }
 },
 "nbformat": 4,
 "nbformat_minor": 4
}
